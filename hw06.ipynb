{
 "cells": [
  {
   "cell_type": "markdown",
   "metadata": {},
   "source": [
    "# Домашнее задание 6: классификация текстов"
   ]
  },
  {
   "cell_type": "markdown",
   "metadata": {},
   "source": [
    "В этом домашнем задании вам предстоит построить классификатор текстов и поучаствовать в соревновании на Kaggle!\n",
    "Первым делом вам предстоит построить хороший бейзлайн, а дальше пытаться улучшать, соревнуясь с другими участниками.\n",
    "\n",
    "\n",
    "Ссылка на соревнование: https://www.kaggle.com/c/avito-category-prediction/overview\n",
    "Данные для домашнего задания можно скачать на странице соревнования.\n",
    "Чтобы ваше участие было засчитано, убедитесь, что имя в Leaderboard имеет вид: «Имя Фамилия номер_группы».\n",
    "\n",
    "Оценивание:\n",
    "\n",
    "Домашнее задание оценивается как обычно. Баллы указаны напротив заданий.\n",
    "\n",
    "За соревнование даются бонусные баллы следующим образом.\n",
    "Если вы пересекли baseline_2 на приватном лидерборде, ваша оценка равна \n",
    "\n",
    "10 - 10 * (i - 1) / M\n",
    "\n",
    "где M — количество студентов, принявших участие в соревновании;\n",
    "\n",
    "i — место (начиная с 1) студента в приватном лидерборде среди всех таких студентов.\n",
    "\n",
    "Правила:\n",
    "\n",
    "* Домашнее задание оценивается в 10 баллов.\n",
    "\n",
    "* Плагиат не допускается. При обнаружении случаев списывания, 0 за работу выставляется всем участникам нарушения, даже если можно установить, кто у кого списал.\n",
    "\n",
    "* Старайтесь сделать код как можно более оптимальным. В частности, будет штрафоваться использование циклов в тех случаях, когда операцию можно совершить при помощи инструментов библиотек, о которых рассказывалось в курсе.  \n",
    "\n",
    "* В течение 3 суток после окончания соревнования в соответствующее задание на anytask необходимо прислать код, воспроизводящий ответы для посылки, фигурирующей в приватном лидерборде. В случае отсутствия кода, воспроизводящего результат, в установленный срок студенту выставляется 0 в качестве оценки за соревнование. Если не оговорено иное, использовать любые внешние данные в соревнованиях '''запрещено'''. Под внешними данными понимаются размеченные данные, где разметка имеет прямое отношение к решаемой задаче. Грубо говоря, сборник текстов с википедии не считается внешними данными.\n"
   ]
  },
  {
   "cell_type": "markdown",
   "metadata": {},
   "source": [
    "Мы будем работать с датасетом объявлений Avito. Нам предстоит по заголовку и тексту объявления предсказывать категорию объявления."
   ]
  },
  {
   "cell_type": "code",
   "execution_count": 3,
   "metadata": {},
   "outputs": [],
   "source": [
    "import pandas as pd"
   ]
  },
  {
   "cell_type": "code",
   "execution_count": 4,
   "metadata": {},
   "outputs": [],
   "source": [
    "train = pd.read_csv('train.csv')\n",
    "test = pd.read_csv('test.csv')"
   ]
  },
  {
   "cell_type": "code",
   "execution_count": 5,
   "metadata": {},
   "outputs": [
    {
     "data": {
      "text/html": [
       "<div>\n",
       "<style scoped>\n",
       "    .dataframe tbody tr th:only-of-type {\n",
       "        vertical-align: middle;\n",
       "    }\n",
       "\n",
       "    .dataframe tbody tr th {\n",
       "        vertical-align: top;\n",
       "    }\n",
       "\n",
       "    .dataframe thead th {\n",
       "        text-align: right;\n",
       "    }\n",
       "</style>\n",
       "<table border=\"1\" class=\"dataframe\">\n",
       "  <thead>\n",
       "    <tr style=\"text-align: right;\">\n",
       "      <th></th>\n",
       "      <th>title</th>\n",
       "      <th>description</th>\n",
       "      <th>Category_name</th>\n",
       "      <th>Category</th>\n",
       "    </tr>\n",
       "  </thead>\n",
       "  <tbody>\n",
       "    <tr>\n",
       "      <th>0</th>\n",
       "      <td>Эбу Renault / Nissan 1,5 DCI Delphi 2001-2008 год</td>\n",
       "      <td>Комплект ЭБУ (мозги, компьютер мотора, двигате...</td>\n",
       "      <td>Запчасти и аксессуары</td>\n",
       "      <td>10</td>\n",
       "    </tr>\n",
       "    <tr>\n",
       "      <th>1</th>\n",
       "      <td>Утюг утп 1000 ватт СССР 1987 год</td>\n",
       "      <td>Продам/\\n Фото № 1-2 /\\n /\\nУтюг УТП 1000 ватт...</td>\n",
       "      <td>Бытовая техника</td>\n",
       "      <td>21</td>\n",
       "    </tr>\n",
       "    <tr>\n",
       "      <th>2</th>\n",
       "      <td>Возвму машину с выкупом</td>\n",
       "      <td>Возьму машину в аренду с последующим выкупом н...</td>\n",
       "      <td>Предложение услуг</td>\n",
       "      <td>114</td>\n",
       "    </tr>\n",
       "    <tr>\n",
       "      <th>3</th>\n",
       "      <td>Полусапожки</td>\n",
       "      <td>полусапожки в отличном состоянии, один раз оде...</td>\n",
       "      <td>Одежда, обувь, аксессуары</td>\n",
       "      <td>27</td>\n",
       "    </tr>\n",
       "    <tr>\n",
       "      <th>4</th>\n",
       "      <td>Босоножки кожаные</td>\n",
       "      <td>Кожаные(натур) босоножки Karlo Pasolini, 40 рр...</td>\n",
       "      <td>Одежда, обувь, аксессуары</td>\n",
       "      <td>27</td>\n",
       "    </tr>\n",
       "  </tbody>\n",
       "</table>\n",
       "</div>"
      ],
      "text/plain": [
       "                                               title  \\\n",
       "0  Эбу Renault / Nissan 1,5 DCI Delphi 2001-2008 год   \n",
       "1                   Утюг утп 1000 ватт СССР 1987 год   \n",
       "2                            Возвму машину с выкупом   \n",
       "3                                        Полусапожки   \n",
       "4                                  Босоножки кожаные   \n",
       "\n",
       "                                         description  \\\n",
       "0  Комплект ЭБУ (мозги, компьютер мотора, двигате...   \n",
       "1  Продам/\\n Фото № 1-2 /\\n /\\nУтюг УТП 1000 ватт...   \n",
       "2  Возьму машину в аренду с последующим выкупом н...   \n",
       "3  полусапожки в отличном состоянии, один раз оде...   \n",
       "4  Кожаные(натур) босоножки Karlo Pasolini, 40 рр...   \n",
       "\n",
       "               Category_name  Category  \n",
       "0      Запчасти и аксессуары        10  \n",
       "1            Бытовая техника        21  \n",
       "2          Предложение услуг       114  \n",
       "3  Одежда, обувь, аксессуары        27  \n",
       "4  Одежда, обувь, аксессуары        27  "
      ]
     },
     "execution_count": 5,
     "metadata": {},
     "output_type": "execute_result"
    }
   ],
   "source": [
    "train.head()"
   ]
  },
  {
   "cell_type": "code",
   "execution_count": 17,
   "metadata": {},
   "outputs": [
    {
     "data": {
      "text/plain": [
       "(4234042, 5)"
      ]
     },
     "execution_count": 17,
     "metadata": {},
     "output_type": "execute_result"
    }
   ],
   "source": []
  },
  {
   "cell_type": "markdown",
   "metadata": {},
   "source": [
    "## Задание 1 (0.5 балла)\n",
    "\n",
    "Выведете на экран информацию о пропусках в данных. Если пропуски присутствуют заполните их пустой строкой."
   ]
  },
  {
   "cell_type": "code",
   "execution_count": 6,
   "metadata": {},
   "outputs": [
    {
     "data": {
      "text/plain": [
       "title            0\n",
       "description      2\n",
       "Category_name    0\n",
       "Category         0\n",
       "dtype: int64"
      ]
     },
     "execution_count": 6,
     "metadata": {},
     "output_type": "execute_result"
    }
   ],
   "source": [
    "train.isnull().sum()"
   ]
  },
  {
   "cell_type": "code",
   "execution_count": 7,
   "metadata": {},
   "outputs": [
    {
     "data": {
      "text/plain": [
       "title          0\n",
       "description    1\n",
       "itemid         0\n",
       "dtype: int64"
      ]
     },
     "execution_count": 7,
     "metadata": {},
     "output_type": "execute_result"
    }
   ],
   "source": [
    "test.isnull().sum()"
   ]
  },
  {
   "cell_type": "code",
   "execution_count": 8,
   "metadata": {},
   "outputs": [],
   "source": [
    "train = train.fillna('')\n",
    "test = test.fillna('')"
   ]
  },
  {
   "cell_type": "code",
   "execution_count": 9,
   "metadata": {},
   "outputs": [
    {
     "data": {
      "text/plain": [
       "title            0\n",
       "description      0\n",
       "Category_name    0\n",
       "Category         0\n",
       "dtype: int64"
      ]
     },
     "execution_count": 9,
     "metadata": {},
     "output_type": "execute_result"
    }
   ],
   "source": [
    "train.isnull().sum()"
   ]
  },
  {
   "cell_type": "code",
   "execution_count": 10,
   "metadata": {},
   "outputs": [
    {
     "data": {
      "text/plain": [
       "title          0\n",
       "description    0\n",
       "itemid         0\n",
       "dtype: int64"
      ]
     },
     "execution_count": 10,
     "metadata": {},
     "output_type": "execute_result"
    }
   ],
   "source": [
    "test.isnull().sum()"
   ]
  },
  {
   "cell_type": "markdown",
   "metadata": {},
   "source": [
    "## Задание 2 (0.5 балла)\n",
    "Сконкатенируйте заголовок и описание в единую строку и поместите результат в отдельный столбец. Таким образом мы будет работать с одним текстом, а не с двумя."
   ]
  },
  {
   "cell_type": "code",
   "execution_count": 11,
   "metadata": {},
   "outputs": [],
   "source": [
    "train['text'] = train.title + \" \" + train.description"
   ]
  },
  {
   "cell_type": "code",
   "execution_count": 12,
   "metadata": {},
   "outputs": [],
   "source": [
    "test['text'] = test.title + \" \" + test.description"
   ]
  },
  {
   "cell_type": "code",
   "execution_count": 93,
   "metadata": {},
   "outputs": [
    {
     "data": {
      "text/plain": [
       "(0          Мастерка Мастерка фирмы форвард. Белого цвета....\n",
       " 1          Зимние сапоги Продаю зимние сапоги, в хорошем ...\n",
       " 2          Видеонаблюдение 8 камер В комплект Atis AMD-2M...\n",
       " 3                              Запчасти для GLE Запчасти GLE\n",
       " 4          Бластер nerf Состояние 5+/\\nПродаю потому что ...\n",
       "                                  ...                        \n",
       " 1411343    Бетоносмеситель Россия бсэ-140 чугун Бетономеш...\n",
       " 1411344    Разношрокие колеса R19 оригинал Porsche Paname...\n",
       " 1411345    Комбенз зимний размер Комбензон на овчине .Под...\n",
       " 1411346    Смартфон Honor 5C В отличном состоянии. Исполь...\n",
       " 1411347    Слипоны Ralph Lauren 6.5 Новые без коробки , п...\n",
       " Name: text, Length: 1411348, dtype: object,\n",
       " 0          Эбу Renault / Nissan 1,5 DCI Delphi 2001-2008 ...\n",
       " 1          Утюг утп 1000 ватт СССР 1987 год Продам/\\n Фот...\n",
       " 2          Возвму машину с выкупом Возьму машину в аренду...\n",
       " 3          Полусапожки полусапожки в отличном состоянии, ...\n",
       " 4          Босоножки кожаные Кожаные(натур) босоножки Kar...\n",
       "                                  ...                        \n",
       " 4234037    Мопед Дельта Мотоланд 70 кубиков Продам новый ...\n",
       " 4234038    Xiaomi A2 4/64 почти новый (б/у 3 дня) Xiaomi ...\n",
       " 4234039    Шерстяной комбинезон Joha В отличном состоянии...\n",
       " 4234040                        Джинсы фирмы Zara р.152 Новые\n",
       " 4234041    Дом 105 м² на участке 10 сот. Продам полдома ,...\n",
       " Name: text, Length: 4234042, dtype: object)"
      ]
     },
     "execution_count": 93,
     "metadata": {},
     "output_type": "execute_result"
    }
   ],
   "source": [
    "test.text, train.text"
   ]
  },
  {
   "cell_type": "markdown",
   "metadata": {},
   "source": [
    "## Задание 3 (0.5 балла)\n",
    "Давайте немного посмотрим на наши данные. Визуализируйте (где явно просят) или выведете информацию о следующем:\n",
    "\n",
    "1. Сколько всего уникальных классов необходимо предсказать?\n",
    "2. Постройте столбчатую диаграмму распределения по классам. Нормализуйте график, чтобы видеть доли, а не абсолютные значения.\n",
    "3. На сколько большой дисбаланс? Какой класс имеет самую большую долю в выборке (укажите класс и долю), какой класс наименьшую (укажите класс и долю)."
   ]
  },
  {
   "cell_type": "code",
   "execution_count": 12,
   "metadata": {},
   "outputs": [
    {
     "data": {
      "text/plain": [
       "Одежда, обувь, аксессуары     765120\n",
       "Запчасти и аксессуары         740701\n",
       "Детская одежда и обувь        577499\n",
       "Товары для детей и игрушки    206517\n",
       "Мебель и интерьер             156737\n",
       "Name: Category_name, dtype: int64"
      ]
     },
     "execution_count": 12,
     "metadata": {},
     "output_type": "execute_result"
    }
   ],
   "source": [
    "# Сколько всего уникальных классов необходимо предсказать?\n",
    "vc = train.Category_name.value_counts()\n",
    "vc.head()"
   ]
  },
  {
   "cell_type": "code",
   "execution_count": 13,
   "metadata": {},
   "outputs": [
    {
     "data": {
      "text/plain": [
       "50"
      ]
     },
     "execution_count": 13,
     "metadata": {},
     "output_type": "execute_result"
    }
   ],
   "source": [
    "vc.count()"
   ]
  },
  {
   "cell_type": "code",
   "execution_count": 14,
   "metadata": {},
   "outputs": [
    {
     "data": {
      "text/plain": [
       "Одежда, обувь, аксессуары     18.070676\n",
       "Запчасти и аксессуары         17.493946\n",
       "Детская одежда и обувь        13.639425\n",
       "Товары для детей и игрушки     4.877538\n",
       "Мебель и интерьер              3.701829\n",
       "Name: Category_name, dtype: float64"
      ]
     },
     "execution_count": 14,
     "metadata": {},
     "output_type": "execute_result"
    }
   ],
   "source": [
    "#Нормализуйте график, чтобы видеть доли, а не абсолютные значения.\n",
    "vc = (vc / vc.sum()) * 100\n",
    "vc.head()"
   ]
  },
  {
   "cell_type": "code",
   "execution_count": 15,
   "metadata": {},
   "outputs": [
    {
     "data": {
      "image/png": "[encoded data removed]",
      "text/plain": [
       "<Figure size 1080x360 with 1 Axes>"
      ]
     },
     "metadata": {
      "needs_background": "light"
     },
     "output_type": "display_data"
    }
   ],
   "source": [
    "#Постройте столбчатую диаграмму распределения по классам. \n",
    "\n",
    "pl = vc.plot.bar(x='lab', y='val', rot=90, figsize=(15,5))"
   ]
  },
  {
   "cell_type": "code",
   "execution_count": 16,
   "metadata": {},
   "outputs": [
    {
     "name": "stdout",
     "output_type": "stream",
     "text": [
      "Самая большая доля:  Одежда, обувь, аксессуары 18.07067572782698\n",
      "Самая малая доля:  Недвижимость за рубежом 0.0038969854337769913\n",
      "Дисбаланс большой. Разброс долей классов (%):  18.066778742393204\n"
     ]
    }
   ],
   "source": [
    "#На сколько большой дисбаланс?\n",
    "print(\"Самая большая доля: \", vc.idxmax(), vc.max())\n",
    "print(\"Самая малая доля: \", vc.idxmin(), vc.min())\n",
    "print(\"Дисбаланс большой. Разброс долей классов (%): \", vc.max() - vc.min())"
   ]
  },
  {
   "cell_type": "markdown",
   "metadata": {},
   "source": [
    "## Задание 4 (0.5 балла)\n",
    "\n",
    "Далее мы будем пока работать только с train частью. Для test части нам неизвестны истинные значения, и они понадобятся только тогда, когда мы будем отправлять решение на Kaggle.\n",
    "\n",
    "1. Предобработайте данные (train часть) с помощью CountVectorizer.\n",
    "2. Какого размера получилась матрица?\n"
   ]
  },
  {
   "cell_type": "code",
   "execution_count": 13,
   "metadata": {},
   "outputs": [],
   "source": [
    "from sklearn.feature_extraction.text import CountVectorizer\n",
    "cnt_vec = CountVectorizer()"
   ]
  },
  {
   "cell_type": "code",
   "execution_count": 32,
   "metadata": {},
   "outputs": [],
   "source": [
    "X_training = cv.fit_transform(train.text[:500000])"
   ]
  },
  {
   "cell_type": "code",
   "execution_count": 19,
   "metadata": {},
   "outputs": [
    {
     "data": {
      "text/plain": [
       "<100000x230691 sparse matrix of type '<class 'numpy.int64'>'\n",
       "\twith 3577849 stored elements in Compressed Sparse Row format>"
      ]
     },
     "execution_count": 19,
     "metadata": {},
     "output_type": "execute_result"
    }
   ],
   "source": [
    "X"
   ]
  },
  {
   "cell_type": "code",
   "execution_count": 20,
   "metadata": {},
   "outputs": [
    {
     "data": {
      "text/html": [
       "<div>\n",
       "<style scoped>\n",
       "    .dataframe tbody tr th:only-of-type {\n",
       "        vertical-align: middle;\n",
       "    }\n",
       "\n",
       "    .dataframe tbody tr th {\n",
       "        vertical-align: top;\n",
       "    }\n",
       "\n",
       "    .dataframe thead th {\n",
       "        text-align: right;\n",
       "    }\n",
       "</style>\n",
       "<table border=\"1\" class=\"dataframe\">\n",
       "  <thead>\n",
       "    <tr style=\"text-align: right;\">\n",
       "      <th></th>\n",
       "      <th>00</th>\n",
       "      <th>000</th>\n",
       "      <th>0000</th>\n",
       "      <th>000000</th>\n",
       "      <th>0000000</th>\n",
       "      <th>00000000191668</th>\n",
       "      <th>00000002315</th>\n",
       "      <th>0000000234238</th>\n",
       "      <th>0000000259699</th>\n",
       "      <th>0000000310604</th>\n",
       "      <th>...</th>\n",
       "      <th>➊гарантия</th>\n",
       "      <th>➋в</th>\n",
       "      <th>➍все</th>\n",
       "      <th>云南下关沱茶集团</th>\n",
       "      <th>天上天下</th>\n",
       "      <th>浮世絵</th>\n",
       "      <th>美人画</th>\n",
       "      <th>𝑴𝒂𝒚𝒐𝒓𝒂𝒍</th>\n",
       "      <th>𝓓𝓤𝓚𝓐_𝓲𝓻𝓴</th>\n",
       "      <th>𝓢𝓱𝓸𝔀𝓻𝓸𝓸𝓶</th>\n",
       "    </tr>\n",
       "  </thead>\n",
       "  <tbody>\n",
       "    <tr>\n",
       "      <th>0</th>\n",
       "      <td>0</td>\n",
       "      <td>0</td>\n",
       "      <td>0</td>\n",
       "      <td>0</td>\n",
       "      <td>0</td>\n",
       "      <td>0</td>\n",
       "      <td>0</td>\n",
       "      <td>0</td>\n",
       "      <td>0</td>\n",
       "      <td>0</td>\n",
       "      <td>...</td>\n",
       "      <td>0</td>\n",
       "      <td>0</td>\n",
       "      <td>0</td>\n",
       "      <td>0</td>\n",
       "      <td>0</td>\n",
       "      <td>0</td>\n",
       "      <td>0</td>\n",
       "      <td>0</td>\n",
       "      <td>0</td>\n",
       "      <td>0</td>\n",
       "    </tr>\n",
       "    <tr>\n",
       "      <th>1</th>\n",
       "      <td>0</td>\n",
       "      <td>0</td>\n",
       "      <td>0</td>\n",
       "      <td>0</td>\n",
       "      <td>0</td>\n",
       "      <td>0</td>\n",
       "      <td>0</td>\n",
       "      <td>0</td>\n",
       "      <td>0</td>\n",
       "      <td>0</td>\n",
       "      <td>...</td>\n",
       "      <td>0</td>\n",
       "      <td>0</td>\n",
       "      <td>0</td>\n",
       "      <td>0</td>\n",
       "      <td>0</td>\n",
       "      <td>0</td>\n",
       "      <td>0</td>\n",
       "      <td>0</td>\n",
       "      <td>0</td>\n",
       "      <td>0</td>\n",
       "    </tr>\n",
       "    <tr>\n",
       "      <th>2</th>\n",
       "      <td>0</td>\n",
       "      <td>0</td>\n",
       "      <td>0</td>\n",
       "      <td>0</td>\n",
       "      <td>0</td>\n",
       "      <td>0</td>\n",
       "      <td>0</td>\n",
       "      <td>0</td>\n",
       "      <td>0</td>\n",
       "      <td>0</td>\n",
       "      <td>...</td>\n",
       "      <td>0</td>\n",
       "      <td>0</td>\n",
       "      <td>0</td>\n",
       "      <td>0</td>\n",
       "      <td>0</td>\n",
       "      <td>0</td>\n",
       "      <td>0</td>\n",
       "      <td>0</td>\n",
       "      <td>0</td>\n",
       "      <td>0</td>\n",
       "    </tr>\n",
       "    <tr>\n",
       "      <th>3</th>\n",
       "      <td>0</td>\n",
       "      <td>0</td>\n",
       "      <td>0</td>\n",
       "      <td>0</td>\n",
       "      <td>0</td>\n",
       "      <td>0</td>\n",
       "      <td>0</td>\n",
       "      <td>0</td>\n",
       "      <td>0</td>\n",
       "      <td>0</td>\n",
       "      <td>...</td>\n",
       "      <td>0</td>\n",
       "      <td>0</td>\n",
       "      <td>0</td>\n",
       "      <td>0</td>\n",
       "      <td>0</td>\n",
       "      <td>0</td>\n",
       "      <td>0</td>\n",
       "      <td>0</td>\n",
       "      <td>0</td>\n",
       "      <td>0</td>\n",
       "    </tr>\n",
       "    <tr>\n",
       "      <th>4</th>\n",
       "      <td>0</td>\n",
       "      <td>0</td>\n",
       "      <td>0</td>\n",
       "      <td>0</td>\n",
       "      <td>0</td>\n",
       "      <td>0</td>\n",
       "      <td>0</td>\n",
       "      <td>0</td>\n",
       "      <td>0</td>\n",
       "      <td>0</td>\n",
       "      <td>...</td>\n",
       "      <td>0</td>\n",
       "      <td>0</td>\n",
       "      <td>0</td>\n",
       "      <td>0</td>\n",
       "      <td>0</td>\n",
       "      <td>0</td>\n",
       "      <td>0</td>\n",
       "      <td>0</td>\n",
       "      <td>0</td>\n",
       "      <td>0</td>\n",
       "    </tr>\n",
       "    <tr>\n",
       "      <th>...</th>\n",
       "      <td>...</td>\n",
       "      <td>...</td>\n",
       "      <td>...</td>\n",
       "      <td>...</td>\n",
       "      <td>...</td>\n",
       "      <td>...</td>\n",
       "      <td>...</td>\n",
       "      <td>...</td>\n",
       "      <td>...</td>\n",
       "      <td>...</td>\n",
       "      <td>...</td>\n",
       "      <td>...</td>\n",
       "      <td>...</td>\n",
       "      <td>...</td>\n",
       "      <td>...</td>\n",
       "      <td>...</td>\n",
       "      <td>...</td>\n",
       "      <td>...</td>\n",
       "      <td>...</td>\n",
       "      <td>...</td>\n",
       "      <td>...</td>\n",
       "    </tr>\n",
       "    <tr>\n",
       "      <th>99995</th>\n",
       "      <td>0</td>\n",
       "      <td>0</td>\n",
       "      <td>0</td>\n",
       "      <td>0</td>\n",
       "      <td>0</td>\n",
       "      <td>0</td>\n",
       "      <td>0</td>\n",
       "      <td>0</td>\n",
       "      <td>0</td>\n",
       "      <td>0</td>\n",
       "      <td>...</td>\n",
       "      <td>0</td>\n",
       "      <td>0</td>\n",
       "      <td>0</td>\n",
       "      <td>0</td>\n",
       "      <td>0</td>\n",
       "      <td>0</td>\n",
       "      <td>0</td>\n",
       "      <td>0</td>\n",
       "      <td>0</td>\n",
       "      <td>0</td>\n",
       "    </tr>\n",
       "    <tr>\n",
       "      <th>99996</th>\n",
       "      <td>0</td>\n",
       "      <td>0</td>\n",
       "      <td>0</td>\n",
       "      <td>0</td>\n",
       "      <td>0</td>\n",
       "      <td>0</td>\n",
       "      <td>0</td>\n",
       "      <td>0</td>\n",
       "      <td>0</td>\n",
       "      <td>0</td>\n",
       "      <td>...</td>\n",
       "      <td>0</td>\n",
       "      <td>0</td>\n",
       "      <td>0</td>\n",
       "      <td>0</td>\n",
       "      <td>0</td>\n",
       "      <td>0</td>\n",
       "      <td>0</td>\n",
       "      <td>0</td>\n",
       "      <td>0</td>\n",
       "      <td>0</td>\n",
       "    </tr>\n",
       "    <tr>\n",
       "      <th>99997</th>\n",
       "      <td>0</td>\n",
       "      <td>0</td>\n",
       "      <td>0</td>\n",
       "      <td>0</td>\n",
       "      <td>0</td>\n",
       "      <td>0</td>\n",
       "      <td>0</td>\n",
       "      <td>0</td>\n",
       "      <td>0</td>\n",
       "      <td>0</td>\n",
       "      <td>...</td>\n",
       "      <td>0</td>\n",
       "      <td>0</td>\n",
       "      <td>0</td>\n",
       "      <td>0</td>\n",
       "      <td>0</td>\n",
       "      <td>0</td>\n",
       "      <td>0</td>\n",
       "      <td>0</td>\n",
       "      <td>0</td>\n",
       "      <td>0</td>\n",
       "    </tr>\n",
       "    <tr>\n",
       "      <th>99998</th>\n",
       "      <td>0</td>\n",
       "      <td>0</td>\n",
       "      <td>0</td>\n",
       "      <td>0</td>\n",
       "      <td>0</td>\n",
       "      <td>0</td>\n",
       "      <td>0</td>\n",
       "      <td>0</td>\n",
       "      <td>0</td>\n",
       "      <td>0</td>\n",
       "      <td>...</td>\n",
       "      <td>0</td>\n",
       "      <td>0</td>\n",
       "      <td>0</td>\n",
       "      <td>0</td>\n",
       "      <td>0</td>\n",
       "      <td>0</td>\n",
       "      <td>0</td>\n",
       "      <td>0</td>\n",
       "      <td>0</td>\n",
       "      <td>0</td>\n",
       "    </tr>\n",
       "    <tr>\n",
       "      <th>99999</th>\n",
       "      <td>0</td>\n",
       "      <td>0</td>\n",
       "      <td>0</td>\n",
       "      <td>0</td>\n",
       "      <td>0</td>\n",
       "      <td>0</td>\n",
       "      <td>0</td>\n",
       "      <td>0</td>\n",
       "      <td>0</td>\n",
       "      <td>0</td>\n",
       "      <td>...</td>\n",
       "      <td>0</td>\n",
       "      <td>0</td>\n",
       "      <td>0</td>\n",
       "      <td>0</td>\n",
       "      <td>0</td>\n",
       "      <td>0</td>\n",
       "      <td>0</td>\n",
       "      <td>0</td>\n",
       "      <td>0</td>\n",
       "      <td>0</td>\n",
       "    </tr>\n",
       "  </tbody>\n",
       "</table>\n",
       "<p>100000 rows × 230691 columns</p>\n",
       "</div>"
      ],
      "text/plain": [
       "       00  000  0000  000000  0000000  00000000191668  00000002315  \\\n",
       "0       0    0     0       0        0               0            0   \n",
       "1       0    0     0       0        0               0            0   \n",
       "2       0    0     0       0        0               0            0   \n",
       "3       0    0     0       0        0               0            0   \n",
       "4       0    0     0       0        0               0            0   \n",
       "...    ..  ...   ...     ...      ...             ...          ...   \n",
       "99995   0    0     0       0        0               0            0   \n",
       "99996   0    0     0       0        0               0            0   \n",
       "99997   0    0     0       0        0               0            0   \n",
       "99998   0    0     0       0        0               0            0   \n",
       "99999   0    0     0       0        0               0            0   \n",
       "\n",
       "       0000000234238  0000000259699  0000000310604  ...  ➊гарантия  ➋в  ➍все  \\\n",
       "0                  0              0              0  ...          0   0     0   \n",
       "1                  0              0              0  ...          0   0     0   \n",
       "2                  0              0              0  ...          0   0     0   \n",
       "3                  0              0              0  ...          0   0     0   \n",
       "4                  0              0              0  ...          0   0     0   \n",
       "...              ...            ...            ...  ...        ...  ..   ...   \n",
       "99995              0              0              0  ...          0   0     0   \n",
       "99996              0              0              0  ...          0   0     0   \n",
       "99997              0              0              0  ...          0   0     0   \n",
       "99998              0              0              0  ...          0   0     0   \n",
       "99999              0              0              0  ...          0   0     0   \n",
       "\n",
       "       云南下关沱茶集团  天上天下  浮世絵  美人画  𝑴𝒂𝒚𝒐𝒓𝒂𝒍  𝓓𝓤𝓚𝓐_𝓲𝓻𝓴  𝓢𝓱𝓸𝔀𝓻𝓸𝓸𝓶  \n",
       "0             0     0    0    0        0         0         0  \n",
       "1             0     0    0    0        0         0         0  \n",
       "2             0     0    0    0        0         0         0  \n",
       "3             0     0    0    0        0         0         0  \n",
       "4             0     0    0    0        0         0         0  \n",
       "...         ...   ...  ...  ...      ...       ...       ...  \n",
       "99995         0     0    0    0        0         0         0  \n",
       "99996         0     0    0    0        0         0         0  \n",
       "99997         0     0    0    0        0         0         0  \n",
       "99998         0     0    0    0        0         0         0  \n",
       "99999         0     0    0    0        0         0         0  \n",
       "\n",
       "[100000 rows x 230691 columns]"
      ]
     },
     "execution_count": 20,
     "metadata": {},
     "output_type": "execute_result"
    }
   ],
   "source": [
    "pd.DataFrame(X.toarray(), columns=cnt_vec.get_feature_names())"
   ]
  },
  {
   "cell_type": "markdown",
   "metadata": {},
   "source": [
    "## Задание 5 (0.5 балла)\n",
    "\n",
    "В предыдущем пункте у вас должная была получится очень большая матрица. Это не дело.\n",
    "Если вы взгляните на текст, то увидете, что там есть множество специальных символов.\n",
    "\n",
    "Давайте также посмотрим на словарь, который получился в результате построения CountVectorizer, его можно найти в поле _vocabulary инстанса этого класса.\n",
    "\n",
    "1. Найдите в этом словаре все слова, которые начинаются на цифру. Сколько таких слов нашлось?\n",
    "\n",
    "2. Найдите все слова, которые начинаются на символы пунктуации. Сколько таких слов нашлось? "
   ]
  },
  {
   "cell_type": "code",
   "execution_count": 21,
   "metadata": {},
   "outputs": [],
   "source": [
    "vocab = cnt_vec.vocabulary_"
   ]
  },
  {
   "cell_type": "code",
   "execution_count": 22,
   "metadata": {},
   "outputs": [
    {
     "data": {
      "text/plain": [
       "33400"
      ]
     },
     "execution_count": 22,
     "metadata": {},
     "output_type": "execute_result"
    }
   ],
   "source": [
    "#слова начинаются на цифру\n",
    "sum(x[0].isdigit() for x in vocab.keys())"
   ]
  },
  {
   "cell_type": "code",
   "execution_count": 23,
   "metadata": {},
   "outputs": [
    {
     "data": {
      "text/plain": [
       "168"
      ]
     },
     "execution_count": 23,
     "metadata": {},
     "output_type": "execute_result"
    }
   ],
   "source": [
    "#слова начинаются на пунктуацию\n",
    "from string import punctuation as pun\n",
    "sum(x[0] in pun for x in vocab.keys())"
   ]
  },
  {
   "cell_type": "markdown",
   "metadata": {},
   "source": [
    "## Задание 6 (2.5 балла)\n",
    "\n",
    "В scikit-learn мы можем оценивать процесс подсчета матрицы через CountVectorizer. У CountVectorizer, как и у других наследников \\_VectorizerMixin, есть аргумент tokenizer и preprocessor. preprocessor применится в самом начале к каждой строке вашего датасета, tokenizer же должен принять строку и вернуть токены.\n",
    "Давайте напишем кастомный токенайзер, которые сделает все, что нам нужно: \n",
    "\n",
    "0. Приведет все буквы к нижнему регистру\n",
    "1. Разобьет текст на токены с помощью word_tokenizer из пакета nltk\n",
    "2. Удалит все токены содержащие числа и пунктуацию\n",
    "3. Удалит все токены, которые перечислены в nltk.corpus.stopwords('russian')\n",
    "4. Проведет стемминг с помощью SnowballStemmer\n",
    "\n",
    "Продемонстрируйте работу вашей функии на самом первом описании товара в датасете.\n",
    "\n",
    "Важно: так как функию будет необходимо запускать на большом корпусе, подумайте об эффективной реализации. Постарайтесь решить задачу в минимальное количество циклов и копирований.\n",
    "\n",
    "Референсная реализация на компьютере автора работала 230 секунд на 100к строчек."
   ]
  },
  {
   "cell_type": "code",
   "execution_count": 14,
   "metadata": {},
   "outputs": [
    {
     "name": "stderr",
     "output_type": "stream",
     "text": [
      "[nltk_data] Downloading package punkt to\n",
      "[nltk_data]     /Users/alinazabolotskaya/nltk_data...\n",
      "[nltk_data]   Package punkt is already up-to-date!\n",
      "[nltk_data] Downloading package stopwords to\n",
      "[nltk_data]     /Users/alinazabolotskaya/nltk_data...\n",
      "[nltk_data]   Package stopwords is already up-to-date!\n"
     ]
    },
    {
     "name": "stdout",
     "output_type": "stream",
     "text": [
      "Downloading emoji data ...\n",
      "... OK (Got response in 0.60 seconds)\n",
      "Writing emoji data to /Users/alinazabolotskaya/.demoji/codes.json ...\n",
      "... OK\n"
     ]
    }
   ],
   "source": [
    "import nltk\n",
    "from nltk.tokenize import word_tokenize\n",
    "nltk.download('punkt')\n",
    "nltk.download(\"stopwords\")\n",
    "from nltk.corpus import stopwords\n",
    "from nltk.stem.snowball import SnowballStemmer\n",
    "stemmer = SnowballStemmer('russian')\n",
    "import regex\n",
    "import demoji\n",
    "demoji.download_codes()"
   ]
  },
  {
   "cell_type": "code",
   "execution_count": 83,
   "metadata": {},
   "outputs": [],
   "source": [
    "\n",
    "def tize(s):\n",
    "    s = s.lower()\n",
    "    #nopun = regex.compile(r'[\\p{C}|\\p{M}|\\p{P}|\\p{S}|\\p{Z}]+', regex.UNICODE)\n",
    "    #nopun.sub(\" \", s)\n",
    "    #s = demoji.replace(s, '') #я не удержалась, там миллион этих эмодзи\n",
    "    #s = [x for x in s if (any(char.isdigit() for char in x) == False) and (any(char in pun for char in x) == False) and (x not in stopwords.words('russian'))]\n",
    "    #s = [x for x in s if any(char in pun for char in x) == False]\n",
    "    \n",
    "    s = word_tokenize(s)\n",
    "    #s = [x for x in s if x.isalpha()]\n",
    "    s = [stemmer.stem(x) for x in s if x.isalpha() and x not in stopwords.words('russian')]\n",
    "    return s"
   ]
  },
  {
   "cell_type": "code",
   "execution_count": 172,
   "metadata": {},
   "outputs": [
    {
     "data": {
      "text/html": [
       "<div>\n",
       "<style scoped>\n",
       "    .dataframe tbody tr th:only-of-type {\n",
       "        vertical-align: middle;\n",
       "    }\n",
       "\n",
       "    .dataframe tbody tr th {\n",
       "        vertical-align: top;\n",
       "    }\n",
       "\n",
       "    .dataframe thead th {\n",
       "        text-align: right;\n",
       "    }\n",
       "</style>\n",
       "<table border=\"1\" class=\"dataframe\">\n",
       "  <thead>\n",
       "    <tr style=\"text-align: right;\">\n",
       "      <th></th>\n",
       "      <th>title</th>\n",
       "      <th>description</th>\n",
       "      <th>Category_name</th>\n",
       "      <th>Category</th>\n",
       "      <th>text</th>\n",
       "    </tr>\n",
       "  </thead>\n",
       "  <tbody>\n",
       "    <tr>\n",
       "      <th>1403594</th>\n",
       "      <td>Сумка Cromia</td>\n",
       "      <td>Кожаная сумка Cromia, коричневая с золотистой ...</td>\n",
       "      <td>Одежда, обувь, аксессуары</td>\n",
       "      <td>27</td>\n",
       "      <td>Сумка Cromia Кожаная сумка Cromia, коричневая ...</td>\n",
       "    </tr>\n",
       "    <tr>\n",
       "      <th>4067591</th>\n",
       "      <td>Найден котёнок</td>\n",
       "      <td>Найден котёнок (девочка) в районе ПГУ (останов...</td>\n",
       "      <td>Кошки</td>\n",
       "      <td>90</td>\n",
       "      <td>Найден котёнок Найден котёнок (девочка) в райо...</td>\n",
       "    </tr>\n",
       "    <tr>\n",
       "      <th>3589546</th>\n",
       "      <td>Айфон 7 32гб</td>\n",
       "      <td>Отличное состояние. Пользовадась девушка. Всег...</td>\n",
       "      <td>Телефоны</td>\n",
       "      <td>84</td>\n",
       "      <td>Айфон 7 32гб Отличное состояние. Пользовадась ...</td>\n",
       "    </tr>\n",
       "    <tr>\n",
       "      <th>2811051</th>\n",
       "      <td>Казан чугунный 50 л СССР</td>\n",
       "      <td>Новый с воинского хранения в комплекте с дерев...</td>\n",
       "      <td>Коллекционирование</td>\n",
       "      <td>36</td>\n",
       "      <td>Казан чугунный 50 л СССР Новый с воинского хра...</td>\n",
       "    </tr>\n",
       "    <tr>\n",
       "      <th>603921</th>\n",
       "      <td>Молодой котик ищет дом</td>\n",
       "      <td>Юный, но очень галантный Туманчик ждёт своего ...</td>\n",
       "      <td>Кошки</td>\n",
       "      <td>90</td>\n",
       "      <td>Молодой котик ищет дом Юный, но очень галантны...</td>\n",
       "    </tr>\n",
       "  </tbody>\n",
       "</table>\n",
       "</div>"
      ],
      "text/plain": [
       "                            title  \\\n",
       "1403594              Сумка Cromia   \n",
       "4067591            Найден котёнок   \n",
       "3589546              Айфон 7 32гб   \n",
       "2811051  Казан чугунный 50 л СССР   \n",
       "603921     Молодой котик ищет дом   \n",
       "\n",
       "                                               description  \\\n",
       "1403594  Кожаная сумка Cromia, коричневая с золотистой ...   \n",
       "4067591  Найден котёнок (девочка) в районе ПГУ (останов...   \n",
       "3589546  Отличное состояние. Пользовадась девушка. Всег...   \n",
       "2811051  Новый с воинского хранения в комплекте с дерев...   \n",
       "603921   Юный, но очень галантный Туманчик ждёт своего ...   \n",
       "\n",
       "                     Category_name  Category  \\\n",
       "1403594  Одежда, обувь, аксессуары        27   \n",
       "4067591                      Кошки        90   \n",
       "3589546                   Телефоны        84   \n",
       "2811051         Коллекционирование        36   \n",
       "603921                       Кошки        90   \n",
       "\n",
       "                                                      text  \n",
       "1403594  Сумка Cromia Кожаная сумка Cromia, коричневая ...  \n",
       "4067591  Найден котёнок Найден котёнок (девочка) в райо...  \n",
       "3589546  Айфон 7 32гб Отличное состояние. Пользовадась ...  \n",
       "2811051  Казан чугунный 50 л СССР Новый с воинского хра...  \n",
       "603921   Молодой котик ищет дом Юный, но очень галантны...  "
      ]
     },
     "execution_count": 172,
     "metadata": {},
     "output_type": "execute_result"
    }
   ],
   "source": [
    "example = train.sample(5000)\n",
    "example.head()"
   ]
  },
  {
   "cell_type": "code",
   "execution_count": 183,
   "metadata": {},
   "outputs": [],
   "source": [
    "cv = CountVectorizer(tokenizer = lambda x: tize(x))"
   ]
  },
  {
   "cell_type": "code",
   "execution_count": 188,
   "metadata": {},
   "outputs": [],
   "source": [
    "X = cv.fit_transform(rand.text)"
   ]
  },
  {
   "cell_type": "code",
   "execution_count": 195,
   "metadata": {},
   "outputs": [
    {
     "data": {
      "text/plain": [
       "<500000x188062 sparse matrix of type '<class 'numpy.int64'>'\n",
       "\twith 14939015 stored elements in Compressed Sparse Row format>"
      ]
     },
     "execution_count": 195,
     "metadata": {},
     "output_type": "execute_result"
    }
   ],
   "source": [
    "X"
   ]
  },
  {
   "cell_type": "code",
   "execution_count": 189,
   "metadata": {},
   "outputs": [
    {
     "data": {
      "text/plain": [
       "3157553     9\n",
       "357336     27\n",
       "1816451    29\n",
       "291302     21\n",
       "1129046    27\n",
       "           ..\n",
       "418893     30\n",
       "797371     10\n",
       "781671     27\n",
       "2496734    25\n",
       "4225611    29\n",
       "Name: Category, Length: 500000, dtype: int64"
      ]
     },
     "execution_count": 189,
     "metadata": {},
     "output_type": "execute_result"
    }
   ],
   "source": [
    "y = rand[\"Category\"]\n",
    "y"
   ]
  },
  {
   "cell_type": "code",
   "execution_count": 16,
   "metadata": {},
   "outputs": [],
   "source": [
    "from sklearn.model_selection import train_test_split\n",
    "from sklearn.linear_model import SGDClassifier\n",
    "from sklearn.metrics import accuracy_score"
   ]
  },
  {
   "cell_type": "code",
   "execution_count": 191,
   "metadata": {},
   "outputs": [],
   "source": [
    "X_train, X_test, y_train, y_test = train_test_split(X, y, test_size=0.2)\n",
    "sgd = SGDClassifier()"
   ]
  },
  {
   "cell_type": "code",
   "execution_count": 192,
   "metadata": {},
   "outputs": [
    {
     "data": {
      "text/plain": [
       "SGDClassifier()"
      ]
     },
     "execution_count": 192,
     "metadata": {},
     "output_type": "execute_result"
    }
   ],
   "source": [
    "sgd.fit(X_train, y_train)"
   ]
  },
  {
   "cell_type": "code",
   "execution_count": 193,
   "metadata": {},
   "outputs": [
    {
     "data": {
      "text/plain": [
       "(array([29, 27, 10, 32, 10]),\n",
       " 1899573    29\n",
       " 73751      27\n",
       " 2814427    10\n",
       " 2311844    84\n",
       " 999635     10\n",
       " Name: Category, dtype: int64)"
      ]
     },
     "execution_count": 193,
     "metadata": {},
     "output_type": "execute_result"
    }
   ],
   "source": [
    "predict_test = sgd.predict(X_test)\n",
    "predict_test[:5], y_test[:5]"
   ]
  },
  {
   "cell_type": "code",
   "execution_count": 194,
   "metadata": {},
   "outputs": [
    {
     "data": {
      "text/plain": [
       "0.85123"
      ]
     },
     "execution_count": 194,
     "metadata": {},
     "output_type": "execute_result"
    }
   ],
   "source": [
    "\n",
    "accuracy_score(y_test, predict_test)"
   ]
  },
  {
   "cell_type": "markdown",
   "metadata": {},
   "source": [
    "## Задание 8 (1 балл)\n",
    "\n",
    "1. Повторите 7 задание, но с tf-idf векторизатором. Как изменилось качество.\n",
    "2. Мы можем еще сильнее уменьшите размер нашей матрицы, если отбросим значения df близкие к единице. Скорее всего такие слова не несут много информации о категории, так как встречаются достаточно часто. Ограничьте максимальный df в параметрах TfIdfVectorizer, поставьте верхнюю границу равную 0.9. Как изменился размер матрицы, как изменилось качество?\n"
   ]
  },
  {
   "cell_type": "markdown",
   "metadata": {},
   "source": [
    "### 8.1"
   ]
  },
  {
   "cell_type": "code",
   "execution_count": 197,
   "metadata": {},
   "outputs": [],
   "source": [
    "from sklearn.feature_extraction.text import TfidfVectorizer\n",
    "tv = TfidfVectorizer(tokenizer = lambda x: tize(x))\n",
    "X = tv.fit_transform(rand.text)"
   ]
  },
  {
   "cell_type": "code",
   "execution_count": 198,
   "metadata": {},
   "outputs": [
    {
     "data": {
      "text/plain": [
       "<500000x188062 sparse matrix of type '<class 'numpy.float64'>'\n",
       "\twith 14939015 stored elements in Compressed Sparse Row format>"
      ]
     },
     "execution_count": 198,
     "metadata": {},
     "output_type": "execute_result"
    }
   ],
   "source": [
    "X"
   ]
  },
  {
   "cell_type": "code",
   "execution_count": 199,
   "metadata": {},
   "outputs": [
    {
     "data": {
      "text/plain": [
       "(array([27, 84, 27, 27, 29]),\n",
       " 2051491    29\n",
       " 2672922    84\n",
       " 1455495    29\n",
       " 627369     27\n",
       " 3365572    29\n",
       " Name: Category, dtype: int64)"
      ]
     },
     "execution_count": 199,
     "metadata": {},
     "output_type": "execute_result"
    }
   ],
   "source": [
    "X_train, X_test, y_train, y_test = train_test_split(X, y, test_size=0.2)\n",
    "sgd = SGDClassifier()\n",
    "sgd.fit(X_train, y_train)\n",
    "predict_test = sgd.predict(X_test)\n",
    "predict_test[:5], y_test[:5]"
   ]
  },
  {
   "cell_type": "code",
   "execution_count": 200,
   "metadata": {},
   "outputs": [
    {
     "data": {
      "text/plain": [
       "0.83609"
      ]
     },
     "execution_count": 200,
     "metadata": {},
     "output_type": "execute_result"
    }
   ],
   "source": [
    "accuracy_score(y_test, predict_test)"
   ]
  },
  {
   "cell_type": "markdown",
   "metadata": {},
   "source": [
    "### Качество примерно одинаковое (на выборке в 5к здесь было наоборот лучше на 0.02)"
   ]
  },
  {
   "cell_type": "markdown",
   "metadata": {},
   "source": [
    "### 8.2"
   ]
  },
  {
   "cell_type": "code",
   "execution_count": 201,
   "metadata": {},
   "outputs": [],
   "source": [
    "tv2 = TfidfVectorizer(tokenizer = lambda x: tize(x), max_df=0.9)\n",
    "X = tv2.fit_transform(rand.text)"
   ]
  },
  {
   "cell_type": "code",
   "execution_count": 202,
   "metadata": {},
   "outputs": [
    {
     "data": {
      "text/plain": [
       "<500000x188062 sparse matrix of type '<class 'numpy.float64'>'\n",
       "\twith 14939015 stored elements in Compressed Sparse Row format>"
      ]
     },
     "execution_count": 202,
     "metadata": {},
     "output_type": "execute_result"
    }
   ],
   "source": [
    "X"
   ]
  },
  {
   "cell_type": "code",
   "execution_count": 203,
   "metadata": {},
   "outputs": [
    {
     "data": {
      "text/plain": [
       "(array([30, 10, 10, 32,  9]),\n",
       " 3048010     30\n",
       " 773452       9\n",
       " 3863309     87\n",
       " 2986283    101\n",
       " 274634       9\n",
       " Name: Category, dtype: int64)"
      ]
     },
     "execution_count": 203,
     "metadata": {},
     "output_type": "execute_result"
    }
   ],
   "source": [
    "X_train, X_test, y_train, y_test = train_test_split(X, y, test_size=0.2)\n",
    "sgd = SGDClassifier()\n",
    "sgd.fit(X_train, y_train)\n",
    "predict_test = sgd.predict(X_test)\n",
    "predict_test[:5], y_test[:5]"
   ]
  },
  {
   "cell_type": "code",
   "execution_count": 204,
   "metadata": {},
   "outputs": [
    {
     "data": {
      "text/plain": [
       "0.83361"
      ]
     },
     "execution_count": 204,
     "metadata": {},
     "output_type": "execute_result"
    }
   ],
   "source": [
    "accuracy_score(y_test, predict_test)"
   ]
  },
  {
   "cell_type": "markdown",
   "metadata": {},
   "source": [
    "### Качество и размер примерно одинаковые. Наверное, потому что недостаточно большой образец, или максимальный df надо ставить меньше 0.9"
   ]
  },
  {
   "cell_type": "markdown",
   "metadata": {},
   "source": [
    "## Задание 9 (1 балл)\n",
    "Еще один популяпный трюк, который позволит уменьшить количество признаков называется hashing trick. Его суть в том, то мы случайно группируем признаки ииии  ..... складываем их! А потом удаляем исходные признаки. В итоге все наши признаки это просто суммы исходных. Звучит странно, но это отлично работает. Давайте проверим этот трюк в нашем сеттинге.\n",
    "Также при таком подходе вам не нужно хранить словарь token->index, что тоже иногда полезно.\n",
    "\n",
    "1. Повторите задание 7 с HashingVectorizer, укажите количество фичей равное 30000.\n",
    "2. Какой из трех подходов показал самый высокий результат?"
   ]
  },
  {
   "cell_type": "code",
   "execution_count": 78,
   "metadata": {},
   "outputs": [],
   "source": [
    "from sklearn.feature_extraction.text import HashingVectorizer\n",
    "hv = HashingVectorizer(tokenizer = lambda x: tize(x), n_features=30000)\n",
    "#X = hv.fit_transform(rand.text)"
   ]
  },
  {
   "cell_type": "code",
   "execution_count": 206,
   "metadata": {},
   "outputs": [
    {
     "data": {
      "text/plain": [
       "(array([19, 10, 27, 24, 27]),\n",
       " 1677394     36\n",
       " 1890258     10\n",
       " 2748041     27\n",
       " 2368150     24\n",
       " 1190723    114\n",
       " Name: Category, dtype: int64)"
      ]
     },
     "execution_count": 206,
     "metadata": {},
     "output_type": "execute_result"
    }
   ],
   "source": [
    "X_train, X_test, y_train, y_test = train_test_split(X, y, test_size=0.2)\n",
    "sgd = SGDClassifier()\n",
    "sgd.fit(X_train, y_train)\n",
    "predict_test = sgd.predict(X_test)\n",
    "predict_test[:5], y_test[:5]"
   ]
  },
  {
   "cell_type": "code",
   "execution_count": 207,
   "metadata": {},
   "outputs": [
    {
     "data": {
      "text/plain": [
       "0.8099"
      ]
     },
     "execution_count": 207,
     "metadata": {},
     "output_type": "execute_result"
    }
   ],
   "source": [
    "accuracy_score(y_test, predict_test)"
   ]
  },
  {
   "cell_type": "markdown",
   "metadata": {},
   "source": [
    "CountVectorizer лучше всех, HashingVectorizer хуже всех"
   ]
  },
  {
   "cell_type": "markdown",
   "metadata": {},
   "source": [
    "## Задание 10 (1.5 балла)\n",
    "\n",
    "Пришло время выйти в мир. Отправляйтесь на Kaggle Inclass и сделайте первую посылку. Там вы найдете инструкцию как сформировать файл с предсказаниями и отправить его."
   ]
  },
  {
   "cell_type": "code",
   "execution_count": 92,
   "metadata": {},
   "outputs": [
    {
     "name": "stderr",
     "output_type": "stream",
     "text": [
      "Exception ignored in: <function SeekableUnicodeStreamReader.__del__ at 0x7fbf79026040>\n",
      "Traceback (most recent call last):\n",
      "  File \"/Users/alinazabolotskaya/opt/anaconda3/lib/python3.8/site-packages/nltk/data.py\", line 1159, in __del__\n",
      "    if not self.closed:\n",
      "  File \"/Users/alinazabolotskaya/opt/anaconda3/lib/python3.8/site-packages/nltk/data.py\", line 1179, in closed\n",
      "    return self.stream.closed\n",
      "AttributeError: 'SeekableUnicodeStreamReader' object has no attribute 'stream'\n"
     ]
    }
   ],
   "source": [
    "from sklearn.feature_extraction.text import TfidfTransformer\n",
    "from sklearn.feature_extraction.text import CountVectorizer\n",
    "from sklearn.pipeline import Pipeline"
   ]
  },
  {
   "cell_type": "code",
   "execution_count": 18,
   "metadata": {},
   "outputs": [],
   "source": [
    "X_train = train.text\n",
    "y_train = train.Category\n",
    "X_test = test.text"
   ]
  },
  {
   "cell_type": "code",
   "execution_count": 116,
   "metadata": {},
   "outputs": [],
   "source": [
    "count_vectorizer = CountVectorizer(binary=True)\n",
    "tfidf_transformer = TfidfTransformer(use_idf=True) \n"
   ]
  },
  {
   "cell_type": "code",
   "execution_count": 117,
   "metadata": {},
   "outputs": [],
   "source": [
    "dataTrain = count_vectorizer.fit_transform(X_train)"
   ]
  },
  {
   "cell_type": "code",
   "execution_count": 118,
   "metadata": {},
   "outputs": [],
   "source": [
    "tfidf_train_data = tfidf_transformer.fit_transform(dataTrain)"
   ]
  },
  {
   "cell_type": "code",
   "execution_count": 119,
   "metadata": {},
   "outputs": [],
   "source": [
    "testData = count_vectorizer.transform(X_test)"
   ]
  },
  {
   "cell_type": "code",
   "execution_count": 120,
   "metadata": {},
   "outputs": [],
   "source": [
    "tfidf_test_data = tfidf_transformer.transform(testData)"
   ]
  },
  {
   "cell_type": "code",
   "execution_count": 121,
   "metadata": {},
   "outputs": [
    {
     "data": {
      "text/plain": [
       "SGDClassifier()"
      ]
     },
     "execution_count": 121,
     "metadata": {},
     "output_type": "execute_result"
    }
   ],
   "source": [
    "sgd = SGDClassifier()\n",
    "sgd.fit(dataTrain, y_train)"
   ]
  },
  {
   "cell_type": "code",
   "execution_count": 122,
   "metadata": {},
   "outputs": [
    {
     "data": {
      "text/plain": [
       "array([27, 27, 32, ..., 29, 84, 29])"
      ]
     },
     "execution_count": 122,
     "metadata": {},
     "output_type": "execute_result"
    }
   ],
   "source": [
    "y_test = sgd.predict(testData)\n",
    "y_test"
   ]
  },
  {
   "cell_type": "code",
   "execution_count": 17,
   "metadata": {},
   "outputs": [],
   "source": [
    "import numpy as np"
   ]
  },
  {
   "cell_type": "markdown",
   "metadata": {},
   "source": [
    "Тренирую модель и делаю предсказание"
   ]
  },
  {
   "cell_type": "code",
   "execution_count": 126,
   "metadata": {},
   "outputs": [
    {
     "data": {
      "text/plain": [
       "array([27, 27, 32, ..., 29, 84, 29])"
      ]
     },
     "execution_count": 126,
     "metadata": {},
     "output_type": "execute_result"
    }
   ],
   "source": [
    "y_test"
   ]
  },
  {
   "cell_type": "code",
   "execution_count": 130,
   "metadata": {},
   "outputs": [],
   "source": [
    "df = pd.DataFrame(data={'ID': test['itemid'], 'Category': y_test})"
   ]
  },
  {
   "cell_type": "code",
   "execution_count": 131,
   "metadata": {},
   "outputs": [],
   "source": [
    "itog = df.to_csv('predictions_itog.csv', index=False)"
   ]
  },
  {
   "cell_type": "code",
   "execution_count": 128,
   "metadata": {},
   "outputs": [
    {
     "data": {
      "text/html": [
       "<div>\n",
       "<style scoped>\n",
       "    .dataframe tbody tr th:only-of-type {\n",
       "        vertical-align: middle;\n",
       "    }\n",
       "\n",
       "    .dataframe tbody tr th {\n",
       "        vertical-align: top;\n",
       "    }\n",
       "\n",
       "    .dataframe thead th {\n",
       "        text-align: right;\n",
       "    }\n",
       "</style>\n",
       "<table border=\"1\" class=\"dataframe\">\n",
       "  <thead>\n",
       "    <tr style=\"text-align: right;\">\n",
       "      <th></th>\n",
       "      <th>title</th>\n",
       "      <th>description</th>\n",
       "      <th>itemid</th>\n",
       "      <th>text</th>\n",
       "    </tr>\n",
       "  </thead>\n",
       "  <tbody>\n",
       "    <tr>\n",
       "      <th>0</th>\n",
       "      <td>Мастерка</td>\n",
       "      <td>Мастерка фирмы форвард. Белого цвета. В идеаль...</td>\n",
       "      <td>1778449823</td>\n",
       "      <td>Мастерка Мастерка фирмы форвард. Белого цвета....</td>\n",
       "    </tr>\n",
       "    <tr>\n",
       "      <th>1</th>\n",
       "      <td>Зимние сапоги</td>\n",
       "      <td>Продаю зимние сапоги, в хорошем состоянии, все...</td>\n",
       "      <td>1677656962</td>\n",
       "      <td>Зимние сапоги Продаю зимние сапоги, в хорошем ...</td>\n",
       "    </tr>\n",
       "    <tr>\n",
       "      <th>2</th>\n",
       "      <td>Видеонаблюдение 8 камер</td>\n",
       "      <td>В комплект Atis AMD-2MIR-8kit входит: /\\n1. Ку...</td>\n",
       "      <td>1758182804</td>\n",
       "      <td>Видеонаблюдение 8 камер В комплект Atis AMD-2M...</td>\n",
       "    </tr>\n",
       "    <tr>\n",
       "      <th>3</th>\n",
       "      <td>Запчасти для GLE</td>\n",
       "      <td>Запчасти GLE</td>\n",
       "      <td>1689811299</td>\n",
       "      <td>Запчасти для GLE Запчасти GLE</td>\n",
       "    </tr>\n",
       "    <tr>\n",
       "      <th>4</th>\n",
       "      <td>Бластер nerf</td>\n",
       "      <td>Состояние 5+/\\nПродаю потому что не нужен/\\n18...</td>\n",
       "      <td>1804706240</td>\n",
       "      <td>Бластер nerf Состояние 5+/\\nПродаю потому что ...</td>\n",
       "    </tr>\n",
       "  </tbody>\n",
       "</table>\n",
       "</div>"
      ],
      "text/plain": [
       "                     title                                        description  \\\n",
       "0                 Мастерка  Мастерка фирмы форвард. Белого цвета. В идеаль...   \n",
       "1            Зимние сапоги  Продаю зимние сапоги, в хорошем состоянии, все...   \n",
       "2  Видеонаблюдение 8 камер  В комплект Atis AMD-2MIR-8kit входит: /\\n1. Ку...   \n",
       "3         Запчасти для GLE                                       Запчасти GLE   \n",
       "4             Бластер nerf  Состояние 5+/\\nПродаю потому что не нужен/\\n18...   \n",
       "\n",
       "       itemid                                               text  \n",
       "0  1778449823  Мастерка Мастерка фирмы форвард. Белого цвета....  \n",
       "1  1677656962  Зимние сапоги Продаю зимние сапоги, в хорошем ...  \n",
       "2  1758182804  Видеонаблюдение 8 камер В комплект Atis AMD-2M...  \n",
       "3  1689811299                      Запчасти для GLE Запчасти GLE  \n",
       "4  1804706240  Бластер nerf Состояние 5+/\\nПродаю потому что ...  "
      ]
     },
     "execution_count": 128,
     "metadata": {},
     "output_type": "execute_result"
    }
   ],
   "source": [
    "test.head()"
   ]
  },
  {
   "cell_type": "code",
   "execution_count": 119,
   "metadata": {},
   "outputs": [
    {
     "data": {
      "text/plain": [
       "(27     765120\n",
       " 10     740701\n",
       " 29     577499\n",
       " 30     206517\n",
       " 20     156737\n",
       " 24     142236\n",
       " 19     138691\n",
       " 9      125778\n",
       " 114    120152\n",
       " 84     113684\n",
       " 36     100606\n",
       " 39      85369\n",
       " 32      83332\n",
       " 88      72445\n",
       " 21      70938\n",
       " 101     68078\n",
       " 83      59055\n",
       " 28      58930\n",
       " 25      48234\n",
       " 87      42540\n",
       " 40      32136\n",
       " 111     27109\n",
       " 26      27016\n",
       " 97      26325\n",
       " 105     24786\n",
       " 106     23113\n",
       " 42      21930\n",
       " 34      19488\n",
       " 99      19472\n",
       " 98      18456\n",
       " 38      17520\n",
       " 81      17167\n",
       " 82      16987\n",
       " 90      15440\n",
       " 31      14921\n",
       " 89      13713\n",
       " 96      13700\n",
       " 85      13327\n",
       " 94      13276\n",
       " 112     13049\n",
       " 102     12169\n",
       " 93      11875\n",
       " 14      11847\n",
       " 23      11679\n",
       " 92       5231\n",
       " 11       4879\n",
       " 116      4124\n",
       " 91       3614\n",
       " 33       2886\n",
       " 86        165\n",
       " Name: Category, dtype: int64,\n",
       " Одежда, обувь, аксессуары       765120\n",
       " Запчасти и аксессуары           740701\n",
       " Детская одежда и обувь          577499\n",
       " Товары для детей и игрушки      206517\n",
       " Мебель и интерьер               156737\n",
       " Квартиры                        142236\n",
       " Ремонт и строительство          138691\n",
       " Автомобили                      125778\n",
       " Предложение услуг               120152\n",
       " Телефоны                        113684\n",
       " Коллекционирование              100606\n",
       " Спорт и отдых                    85369\n",
       " Аудио и видео                    83332\n",
       " Красота и здоровье               72445\n",
       " Бытовая техника                  70938\n",
       " Товары для компьютера            68078\n",
       " Книги и журналы                  59055\n",
       " Часы и украшения                 58930\n",
       " Дома, дачи, коттеджи             48234\n",
       " Посуда и товары для кухни        42540\n",
       " Оборудование для бизнеса         32136\n",
       " Вакансии                         27109\n",
       " Земельные участки                27016\n",
       " Игры, приставки и программы      26325\n",
       " Фототехника                      24786\n",
       " Растения                         23113\n",
       " Коммерческая недвижимость        21930\n",
       " Велосипеды                       19488\n",
       " Оргтехника и расходники          19472\n",
       " Ноутбуки                         18456\n",
       " Музыкальные инструменты          17520\n",
       " Грузовики и спецтехника          17167\n",
       " Продукты питания                 16987\n",
       " Кошки                            15440\n",
       " Настольные компьютеры            14921\n",
       " Собаки                           13713\n",
       " Планшеты и электронные книги     13700\n",
       " Гаражи и машиноместа             13327\n",
       " Товары для животных              13276\n",
       " Резюме                           13049\n",
       " Охота и рыбалка                  12169\n",
       " Другие животные                  11875\n",
       " Мотоциклы и мототехника          11847\n",
       " Комнаты                          11679\n",
       " Аквариум                          5231\n",
       " Водный транспорт                  4879\n",
       " Готовый бизнес                    4124\n",
       " Птицы                             3614\n",
       " Билеты и путешествия              2886\n",
       " Недвижимость за рубежом            165\n",
       " Name: Category_name, dtype: int64)"
      ]
     },
     "execution_count": 119,
     "metadata": {},
     "output_type": "execute_result"
    }
   ],
   "source": [
    "vc = train.Category.value_counts()\n",
    "vc1 = train.Category_name.value_counts()\n",
    "vc, vc1"
   ]
  },
  {
   "cell_type": "code",
   "execution_count": 112,
   "metadata": {},
   "outputs": [
    {
     "data": {
      "text/html": [
       "<div>\n",
       "<style scoped>\n",
       "    .dataframe tbody tr th:only-of-type {\n",
       "        vertical-align: middle;\n",
       "    }\n",
       "\n",
       "    .dataframe tbody tr th {\n",
       "        vertical-align: top;\n",
       "    }\n",
       "\n",
       "    .dataframe thead th {\n",
       "        text-align: right;\n",
       "    }\n",
       "</style>\n",
       "<table border=\"1\" class=\"dataframe\">\n",
       "  <thead>\n",
       "    <tr style=\"text-align: right;\">\n",
       "      <th></th>\n",
       "      <th>Category</th>\n",
       "      <th>Category_name</th>\n",
       "    </tr>\n",
       "  </thead>\n",
       "  <tbody>\n",
       "    <tr>\n",
       "      <th>9</th>\n",
       "      <td>125778.0</td>\n",
       "      <td>NaN</td>\n",
       "    </tr>\n",
       "    <tr>\n",
       "      <th>10</th>\n",
       "      <td>740701.0</td>\n",
       "      <td>NaN</td>\n",
       "    </tr>\n",
       "    <tr>\n",
       "      <th>11</th>\n",
       "      <td>4879.0</td>\n",
       "      <td>NaN</td>\n",
       "    </tr>\n",
       "    <tr>\n",
       "      <th>14</th>\n",
       "      <td>11847.0</td>\n",
       "      <td>NaN</td>\n",
       "    </tr>\n",
       "    <tr>\n",
       "      <th>19</th>\n",
       "      <td>138691.0</td>\n",
       "      <td>NaN</td>\n",
       "    </tr>\n",
       "    <tr>\n",
       "      <th>...</th>\n",
       "      <td>...</td>\n",
       "      <td>...</td>\n",
       "    </tr>\n",
       "    <tr>\n",
       "      <th>Товары для детей и игрушки</th>\n",
       "      <td>NaN</td>\n",
       "      <td>206517.0</td>\n",
       "    </tr>\n",
       "    <tr>\n",
       "      <th>Товары для животных</th>\n",
       "      <td>NaN</td>\n",
       "      <td>13276.0</td>\n",
       "    </tr>\n",
       "    <tr>\n",
       "      <th>Товары для компьютера</th>\n",
       "      <td>NaN</td>\n",
       "      <td>68078.0</td>\n",
       "    </tr>\n",
       "    <tr>\n",
       "      <th>Фототехника</th>\n",
       "      <td>NaN</td>\n",
       "      <td>24786.0</td>\n",
       "    </tr>\n",
       "    <tr>\n",
       "      <th>Часы и украшения</th>\n",
       "      <td>NaN</td>\n",
       "      <td>58930.0</td>\n",
       "    </tr>\n",
       "  </tbody>\n",
       "</table>\n",
       "<p>100 rows × 2 columns</p>\n",
       "</div>"
      ],
      "text/plain": [
       "                            Category  Category_name\n",
       "9                           125778.0            NaN\n",
       "10                          740701.0            NaN\n",
       "11                            4879.0            NaN\n",
       "14                           11847.0            NaN\n",
       "19                          138691.0            NaN\n",
       "...                              ...            ...\n",
       "Товары для детей и игрушки       NaN       206517.0\n",
       "Товары для животных              NaN        13276.0\n",
       "Товары для компьютера            NaN        68078.0\n",
       "Фототехника                      NaN        24786.0\n",
       "Часы и украшения                 NaN        58930.0\n",
       "\n",
       "[100 rows x 2 columns]"
      ]
     },
     "execution_count": 112,
     "metadata": {},
     "output_type": "execute_result"
    }
   ],
   "source": [
    "smth = pd.concat([vc, train.Category_name.value_counts()], axis=1)\n",
    "smth"
   ]
  },
  {
   "cell_type": "code",
   "execution_count": null,
   "metadata": {},
   "outputs": [],
   "source": []
  }
 ],
 "metadata": {
  "kernelspec": {
   "display_name": "Python 3",
   "language": "python",
   "name": "python3"
  },
  "language_info": {
   "codemirror_mode": {
    "name": "ipython",
    "version": 3
   },
   "file_extension": ".py",
   "mimetype": "text/x-python",
   "name": "python",
   "nbconvert_exporter": "python",
   "pygments_lexer": "ipython3",
   "version": "3.8.3"
  }
 },
 "nbformat": 4,
 "nbformat_minor": 2
}
